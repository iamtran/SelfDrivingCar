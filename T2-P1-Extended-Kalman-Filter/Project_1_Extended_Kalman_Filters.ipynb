{
 "cells": [
  {
   "cell_type": "markdown",
   "metadata": {},
   "source": [
    "## CarND-Extended-Kalman-Filter-P1"
   ]
  },
  {
   "cell_type": "markdown",
   "metadata": {},
   "source": [
    "## Overview:"
   ]
  },
  {
   "cell_type": "markdown",
   "metadata": {},
   "source": [
    "This project implement an Extended Kalman Filter with C++. \n",
    "\n",
    "A simulator provided by Udacity generates noisy RADAR and LIDAR measurements of the position and velocity of an object.\n",
    "\n",
    "They communicate using uWebSockets.\n",
    "The goal of Extended Kalman Filter is to predict the position of the object."
   ]
  },
  {
   "cell_type": "markdown",
   "metadata": {},
   "source": [
    "## ELK Algorithms: (criteria #3, #4, #5, #6)"
   ]
  },
  {
   "cell_type": "markdown",
   "metadata": {},
   "source": [
    "Data will flow in from simulator. The data is either from Lidar or Radar.\n",
    "1) The 1st data point (Lidar or Radar) will be added in measurement list\n",
    "2) The P matrix is initialized \n",
    "3) previous time stamp is set"
   ]
  },
  {
   "cell_type": "markdown",
   "metadata": {},
   "source": [
    "For the rest of data points from data stream:\n",
    "    1) calculate F\n",
    "    2) caluculate Q\n",
    "    3) run Predict()\n",
    "    4.1) if the data point is from Laser\n",
    "        Initialize H = H_laser (predefined)\n",
    "        Initialize R = R_laser (predefined)\n",
    "        run Update()\n",
    "    4.2) if the data point is from Radar\n",
    "        Initialize H = H_Jacobian = CalculateJacobian(x)\n",
    "        Initialize R = R_radar (predefined)\n",
    "        run UpdateEKF()"
   ]
  },
  {
   "cell_type": "markdown",
   "metadata": {},
   "source": [
    "## Criteria #1: Compiling and executing the project"
   ]
  },
  {
   "cell_type": "markdown",
   "metadata": {},
   "source": [
    "emily@emily-OptiPlex-790:~/TERM2/PROJ_01_KF/CarND-Extended-Kalman-Filter-Project$ (cd build/; make)\n",
    "Scanning dependencies of target ExtendedKF\n",
    "[ 20%] Building CXX object CMakeFiles/ExtendedKF.dir/src/FusionEKF.cpp.o\n",
    "[ 40%] Linking CXX executable ExtendedKF\n",
    "[100%] Built target ExtendedKF"
   ]
  },
  {
   "cell_type": "markdown",
   "metadata": {},
   "source": [
    "### CRITERIA #2: RMSE(px, py, vx, vy )  << [.11, .11, 0.52, 0.52]."
   ]
  },
  {
   "cell_type": "markdown",
   "metadata": {},
   "source": [
    "Previous version failed to meet the RMSE requirements.\n",
    "Changes made :\n",
    "   to use atan2() instead of atan and \n",
    "   make sure -pi < phi < pi\n",
    "improved outcome.\n",
    "\n",
    "data set #1 : \n",
    "new RMSE:\n",
    "0.0973178\n",
    "0.0854597\n",
    "0.451267\n",
    "0.439935\n",
    "\n",
    "data set #1 :\n",
    "Old RMSE:\n",
    "1.70509\n",
    "3.33037\n",
    "2.93471\n",
    "4.08678\n",
    "\n",
    "data set #2 :\n",
    "new RMSE:\n",
    "0.0725678\n",
    "0.0964738\n",
    "0.421634\n",
    "0.493199\n",
    "\n",
    "data set #2 :\n",
    "Old RMSE:\n",
    " 2.4963\n",
    "2.44957\n",
    "3.20215\n",
    "2.80432"
   ]
  },
  {
   "cell_type": "markdown",
   "metadata": {},
   "source": [
    "## Criteria #7: Code efficiency"
   ]
  },
  {
   "cell_type": "markdown",
   "metadata": {},
   "source": [
    "The function update() and updateEKF() could be factor out but I decide to leave\n",
    "it there for easier to reader or debug\n",
    "\n",
    "Additional functions are created to make code easier to read and debug:\n",
    "\n",
    "MatrixXd Tools::CalculateJacobian(const VectorXd& x_state)\n",
    "MatrixXd Tools::Calculate_Q(float noise_ax , float noise_ay , float dt) \n",
    "MatrixXd Tools::Calculate_F (float dt) \n",
    "MatrixXd Tools::Calculate_P (float p_value=1000) \n",
    "VectorXd Tools::Convert_Polar2Cartesian (float rho, float rho_dot, float phi)\n",
    "VectorXd Tools::Convert_Cartesian2Polar (const VectorXd& x_vector)"
   ]
  }
 ],
 "metadata": {
  "kernelspec": {
   "display_name": "Python 3",
   "language": "python",
   "name": "python3"
  },
  "language_info": {
   "codemirror_mode": {
    "name": "ipython",
    "version": 3
   },
   "file_extension": ".py",
   "mimetype": "text/x-python",
   "name": "python",
   "nbconvert_exporter": "python",
   "pygments_lexer": "ipython3",
   "version": "3.5.2"
  }
 },
 "nbformat": 4,
 "nbformat_minor": 2
}
