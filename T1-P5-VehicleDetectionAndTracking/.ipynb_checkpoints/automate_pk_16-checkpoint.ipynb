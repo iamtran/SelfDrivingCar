{
 "cells": [
  {
   "cell_type": "code",
   "execution_count": 1,
   "metadata": {},
   "outputs": [
    {
     "name": "stderr",
     "output_type": "stream",
     "text": [
      "/root/miniconda3/envs/carnd-term1/lib/python3.5/site-packages/sklearn/cross_validation.py:41: DeprecationWarning: This module was deprecated in version 0.18 in favor of the model_selection module into which all the refactored classes and functions are moved. Also note that the interface of the new CV iterators are different from that of this module. This module will be removed in 0.20.\n",
      "  \"This module will be removed in 0.20.\", DeprecationWarning)\n"
     ]
    }
   ],
   "source": [
    "from myLib.vehicle_detector import *\n",
    "from myLib.testlib_vehicle import *\n",
    "%matplotlib inline"
   ]
  },
  {
   "cell_type": "raw",
   "metadata": {},
   "source": [
    "# Create data\n",
    "non_car_images_file ='DataJpeg/non-vehicles/*/*/*.jpg'\n",
    "car_image_files     ='DataJpeg/vehicles/*/*/*.jpg'\n",
    "non_car_images_file ='TrainingImageLarge/non-vehicles/*/*.png'\n",
    "car_image_files     ='TrainingImageLarge/vehicles/*/*.png'\n",
    "non_car_images_file ='TrainingImageSmall/non-vehicles_smallset//*/*.jpeg'\n",
    "car_image_files     ='TrainingImageSmall/vehicles_smallset//*/*.jpeg'"
   ]
  },
  {
   "cell_type": "code",
   "execution_count": 2,
   "metadata": {},
   "outputs": [
    {
     "name": "stdout",
     "output_type": "stream",
     "text": [
      "8792 8968\n"
     ]
    }
   ],
   "source": [
    "non_car_images_file ='MoreData/non-vehicles/*/*.png'\n",
    "car_image_files     ='MoreData/vehicles/*/*.png'\n",
    "cars, len_cars, notcars, len_noncars = test_get_data (car_image_files, non_car_images_file)\n",
    "print (len_cars, len_noncars) \n",
    "data_location = \"MoreData\""
   ]
  },
  {
   "cell_type": "code",
   "execution_count": 3,
   "metadata": {
    "collapsed": true
   },
   "outputs": [],
   "source": [
    "#Create PK list\n",
    "datalist = pk_list_16"
   ]
  },
  {
   "cell_type": "code",
   "execution_count": 4,
   "metadata": {
    "collapsed": true
   },
   "outputs": [],
   "source": [
    "# Loop through pk list: store output in PK_32"
   ]
  },
  {
   "cell_type": "code",
   "execution_count": null,
   "metadata": {},
   "outputs": [
    {
     "name": "stderr",
     "output_type": "stream",
     "text": [
      "/root/miniconda3/envs/carnd-term1/lib/python3.5/site-packages/skimage/feature/_hog.py:119: skimage_deprecation: Default value of `block_norm`==`L1` is deprecated and will be changed to `L2-Hys` in v0.15\n",
      "  'be changed to `L2-Hys` in v0.15', skimage_deprecation)\n"
     ]
    }
   ],
   "source": [
    "from time import sleep, perf_counter as pc\n",
    "for i in range (0, len(datalist)):\n",
    "    #print (i)\n",
    "    t=time.time()\n",
    "    my_features  = datalist[i]\n",
    "    model_name = create_model_name (my_features, data_location)\n",
    "    X_train, X_test, y_train, y_test, model_name = automate_training (cars, notcars, my_features, model_name)\n",
    "    t2 = time.time()    \n",
    "    #print(round(t2-t, 2), 'Seconds to train SVC...')\n",
    "    print(\"%20s took %d Seconds to train...\"%(model_name, round(t2-t, 2)))"
   ]
  },
  {
   "cell_type": "code",
   "execution_count": null,
   "metadata": {
    "collapsed": true
   },
   "outputs": [],
   "source": [
    "non_car_images_file ='DataJpeg/non-vehicles/*/*/*.jpg'\n",
    "car_image_files     ='DataJpeg/vehicles/*/*/*.jpg'\n",
    "cars, len_cars, notcars, len_noncars = test_get_data (car_image_files, non_car_images_file)\n",
    "print (len_cars, len_noncars) \n",
    "data_location = \"DataJpeg\"\n"
   ]
  },
  {
   "cell_type": "code",
   "execution_count": null,
   "metadata": {
    "collapsed": true
   },
   "outputs": [],
   "source": [
    "from time import sleep, perf_counter as pc\n",
    "for i in range (0, len(datalist)):\n",
    "    #print (i)\n",
    "    t=time.time()\n",
    "    my_features  = datalist[i]\n",
    "    model_name = create_model_name (my_features, data_location)\n",
    "    X_train, X_test, y_train, y_test, model_name = automate_training (cars, notcars, my_features, model_name)\n",
    "    t2 = time.time()    \n",
    "    #print(round(t2-t, 2), 'Seconds to train SVC...')\n",
    "    print(\"%20s took %d Seconds to train...\"%(model_name, round(t2-t, 2)))"
   ]
  },
  {
   "cell_type": "code",
   "execution_count": null,
   "metadata": {
    "collapsed": true
   },
   "outputs": [],
   "source": []
  },
  {
   "cell_type": "code",
   "execution_count": null,
   "metadata": {
    "collapsed": true
   },
   "outputs": [],
   "source": []
  }
 ],
 "metadata": {
  "kernelspec": {
   "display_name": "Python 3",
   "language": "python",
   "name": "python3"
  },
  "language_info": {
   "codemirror_mode": {
    "name": "ipython",
    "version": 3
   },
   "file_extension": ".py",
   "mimetype": "text/x-python",
   "name": "python",
   "nbconvert_exporter": "python",
   "pygments_lexer": "ipython3",
   "version": "3.5.2"
  },
  "widgets": {
   "state": {},
   "version": "1.1.2"
  }
 },
 "nbformat": 4,
 "nbformat_minor": 2
}
