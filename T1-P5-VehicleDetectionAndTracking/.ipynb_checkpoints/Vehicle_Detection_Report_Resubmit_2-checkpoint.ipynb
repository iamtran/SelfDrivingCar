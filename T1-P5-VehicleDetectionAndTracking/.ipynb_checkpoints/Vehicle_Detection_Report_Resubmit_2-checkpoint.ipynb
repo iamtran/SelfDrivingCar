{
 "cells": [
  {
   "cell_type": "markdown",
   "metadata": {},
   "source": [
    "## Project : Vehicle Detection Resubmit #2"
   ]
  },
  {
   "cell_type": "markdown",
   "metadata": {},
   "source": [
    "## Improvement Lists"
   ]
  },
  {
   "cell_type": "raw",
   "metadata": {},
   "source": [
    "The architecture of Vehicle Detection involved two path:\n",
    "    1. Read the dataset and train our neural Network (PATH1)\n",
    "    2. Read image from video stream and try detect where the other vehicles. (PATH2)\n",
    "\n",
    "The main problem of previous design was a lot of false positive in detect other vehicles.\n",
    "We did not train the neural network right.  List of improvement list can be summarized:\n",
    "1. Increase the data set.\n",
    "2. The extraction feature path (PATH1) was reading image in PNG format to train our neural network\n",
    "   and the detection path (PATH2) read JPEG images from video stream and the code in the two path \n",
    "   some time implement the algorithm that expect different type (PNG/JPEG) of format.  \n",
    "   We made the modification to make all internal path use 1 format (JPEG)\n",
    "3. All the reading of image in either format (PNG/JPEG) will be handle properly in JPEG format\n",
    "   by read_image (file)\n",
    "4. Previous handling of False Positive situation is very complex.  Redesign to implement \n",
    "   classic local heatmap strategy with a special way to handle threshold value.\n",
    "5. Color Space was changed to YCrCb\n",
    "6. Change in spatial_size   from  (16,16) to (32,32)\n",
    "7. Change in hist_bins from 16 to 32\n",
    "8. Change in the use of window/ scale to:[(400, 600, 1.0),(500, 600, 1.0),(400, 500, 0.8) ]\n"
   ]
  },
  {
   "cell_type": "markdown",
   "metadata": {},
   "source": [
    "## Addressing Reviewer SIX points:\n"
   ]
  },
  {
   "cell_type": "markdown",
   "metadata": {},
   "source": [
    "## 1. Improve Document with \"short code snippets\"\n",
    "\n",
    "The improvement was made in Vehicle_Detection_Report_2nd.ipynb or Vehicle_Detection_Report_2nd.pdf"
   ]
  },
  {
   "cell_type": "markdown",
   "metadata": {},
   "source": [
    "## 2. Normalized HOG features extracted from \n",
    "\n",
    "    1. The extract features from data set is normalezed using StandardScaler to remove the mean and scales the data to unit variance.\n",
    "    2. Then the data set is radomly split, shuffle in create_test_training_data()\n",
    "    3. Before the neural network is trained in train_model()"
   ]
  },
  {
   "cell_type": "markdown",
   "metadata": {},
   "source": [
    "## 3. Suggest using smaller scales, like 1.0, 1.5 and maybe 2.0\n",
    "In order to improve, the new window size and scale is used :\n",
    "\n",
    "    scale = [(400, 600, 1.0), (500, 600, 1.0), (400, 500, 0.8)]"
   ]
  },
  {
   "cell_type": "markdown",
   "metadata": {},
   "source": [
    "## 4. Improving the reliability of classifier:\n",
    "1. Color Space was changed to YCrCb\n",
    "2. Change in spatial_size   from  (16,16) to (32,32)\n",
    "3. Change in hist_bins from 16 to 32\n",
    "4. Implement simpler classic heatmap algorithm"
   ]
  },
  {
   "cell_type": "markdown",
   "metadata": {},
   "source": [
    "## 5. The sliding-window search plus classifier  is unreliable.\n",
    "\n",
    "    . Reorganized code flow to handle everything in JPEG format and \n",
    "    . implement item #4 above improved the performance of the classifier.\n"
   ]
  },
  {
   "cell_type": "markdown",
   "metadata": {},
   "source": [
    "## 6. Handling of false positive using \"deque\"\n",
    "    . We try to implement a complex way to handle false positive using deque.\n",
    "    . We failed to improve the performance and decide to back out and use the standard classic implementation\n"
   ]
  }
 ],
 "metadata": {
  "kernelspec": {
   "display_name": "Python 3",
   "language": "python",
   "name": "python3"
  },
  "language_info": {
   "codemirror_mode": {
    "name": "ipython",
    "version": 3
   },
   "file_extension": ".py",
   "mimetype": "text/x-python",
   "name": "python",
   "nbconvert_exporter": "python",
   "pygments_lexer": "ipython3",
   "version": "3.5.2"
  },
  "widgets": {
   "state": {},
   "version": "1.1.2"
  }
 },
 "nbformat": 4,
 "nbformat_minor": 2
}
