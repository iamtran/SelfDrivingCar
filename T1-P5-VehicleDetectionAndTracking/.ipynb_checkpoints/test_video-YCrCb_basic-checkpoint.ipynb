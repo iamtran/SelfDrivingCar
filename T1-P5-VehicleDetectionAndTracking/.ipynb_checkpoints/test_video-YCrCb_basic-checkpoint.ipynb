{
 "cells": [
  {
   "cell_type": "code",
   "execution_count": 1,
   "metadata": {},
   "outputs": [
    {
     "name": "stderr",
     "output_type": "stream",
     "text": [
      "/root/miniconda3/envs/carnd-term1/lib/python3.5/site-packages/sklearn/cross_validation.py:41: DeprecationWarning: This module was deprecated in version 0.18 in favor of the model_selection module into which all the refactored classes and functions are moved. Also note that the interface of the new CV iterators are different from that of this module. This module will be removed in 0.20.\n",
      "  \"This module will be removed in 0.20.\", DeprecationWarning)\n"
     ]
    }
   ],
   "source": [
    "from myLib.vehicle_detector import *\n",
    "from myLib.testlib_vehicle import *\n",
    "%matplotlib inline"
   ]
  },
  {
   "cell_type": "code",
   "execution_count": 2,
   "metadata": {},
   "outputs": [
    {
     "name": "stdout",
     "output_type": "stream",
     "text": [
      "project_video_model_YCrCb_32_MoreData.mp4\n"
     ]
    }
   ],
   "source": [
    "modelFile = pk_dict_32_jpeg['ycrcb']\n",
    "video_input  = \"project_video.mp4\"\n",
    "video_output = video_output_name (video_input, model_file)\n",
    "#scan_area    = scale      = [ (300, 600, 1.8),  (300, 600, 1.0)] \n",
    "scan_area    = scale      = [   (400, 600, 1.0), (500, 600, 1.0) ] # very good\n",
    "detector     = VehicleDetector(model_file)\n",
    "detector.ystart_ystop_scale = scan_area"
   ]
  },
  {
   "cell_type": "code",
   "execution_count": null,
   "metadata": {},
   "outputs": [
    {
     "name": "stdout",
     "output_type": "stream",
     "text": [
      "[MoviePy] >>>> Building video project_video_model_YCrCb_32_MoreData.mp4\n",
      "[MoviePy] Writing video project_video_model_YCrCb_32_MoreData.mp4\n"
     ]
    },
    {
     "name": "stderr",
     "output_type": "stream",
     "text": [
      "  4%|▎         | 45/1261 [00:46<21:01,  1.04s/it]"
     ]
    }
   ],
   "source": [
    "from moviepy.editor import VideoFileClip\n",
    "from IPython.display import HTML\n",
    "clip = VideoFileClip(video_input)\n",
    "drive_clip = clip.fl_image(detector.find_other_cars)\n",
    "%time drive_clip.write_videofile(video_output, audio=False)\n",
    "\n",
    "HTML(\"\"\"\n",
    "<video width=\"960\" height=\"540\" controls>\n",
    "  <source src=\"{0}\">\n",
    "</video>\n",
    "\"\"\".format(video_output))"
   ]
  },
  {
   "cell_type": "code",
   "execution_count": 4,
   "metadata": {
    "collapsed": true
   },
   "outputs": [],
   "source": [
    "# challenge_video.mp4"
   ]
  },
  {
   "cell_type": "code",
   "execution_count": 5,
   "metadata": {},
   "outputs": [
    {
     "name": "stdout",
     "output_type": "stream",
     "text": [
      "challenge_video_model_YCrCb_32_MoreData.mp4\n"
     ]
    }
   ],
   "source": [
    "model_file   = pk_dict_32['ycrcb']\n",
    "video_input  = \"challenge_video.mp4\"\n",
    "video_output = video_output_name (video_input, model_file)\n",
    "#scan_area    = scale      = [ (300, 600, 1.8),  (300, 600, 1.0)] \n",
    "scan_area    = scale      = [   (400, 600, 1.0), (500, 600, 1.0) ] # very good\n",
    "detector     = VehicleDetector(model_file)\n",
    "detector.ystart_ystop_scale = scan_area"
   ]
  },
  {
   "cell_type": "code",
   "execution_count": 6,
   "metadata": {},
   "outputs": [
    {
     "name": "stdout",
     "output_type": "stream",
     "text": [
      "[MoviePy] >>>> Building video challenge_video_model_YCrCb_32_MoreData.mp4\n",
      "[MoviePy] Writing video challenge_video_model_YCrCb_32_MoreData.mp4\n"
     ]
    },
    {
     "name": "stderr",
     "output_type": "stream",
     "text": [
      "100%|██████████| 485/485 [08:25<00:00,  1.04s/it]\n"
     ]
    },
    {
     "name": "stdout",
     "output_type": "stream",
     "text": [
      "[MoviePy] Done.\n",
      "[MoviePy] >>>> Video ready: challenge_video_model_YCrCb_32_MoreData.mp4 \n",
      "\n",
      "CPU times: user 8min 28s, sys: 3.17 s, total: 8min 31s\n",
      "Wall time: 8min 26s\n"
     ]
    },
    {
     "data": {
      "text/html": [
       "\n",
       "<video width=\"960\" height=\"540\" controls>\n",
       "  <source src=\"challenge_video_model_YCrCb_32_MoreData.mp4\">\n",
       "</video>\n"
      ],
      "text/plain": [
       "<IPython.core.display.HTML object>"
      ]
     },
     "execution_count": 6,
     "metadata": {},
     "output_type": "execute_result"
    }
   ],
   "source": [
    "from moviepy.editor import VideoFileClip\n",
    "from IPython.display import HTML\n",
    "clip = VideoFileClip(video_input)\n",
    "drive_clip = clip.fl_image(detector.find_other_cars)\n",
    "%time drive_clip.write_videofile(video_output, audio=False)\n",
    "\n",
    "HTML(\"\"\"\n",
    "<video width=\"960\" height=\"540\" controls>\n",
    "  <source src=\"{0}\">\n",
    "</video>\n",
    "\"\"\".format(video_output))"
   ]
  },
  {
   "cell_type": "code",
   "execution_count": null,
   "metadata": {
    "collapsed": true
   },
   "outputs": [],
   "source": []
  }
 ],
 "metadata": {
  "kernelspec": {
   "display_name": "Python 3",
   "language": "python",
   "name": "python3"
  },
  "language_info": {
   "codemirror_mode": {
    "name": "ipython",
    "version": 3
   },
   "file_extension": ".py",
   "mimetype": "text/x-python",
   "name": "python",
   "nbconvert_exporter": "python",
   "pygments_lexer": "ipython3",
   "version": "3.5.2"
  },
  "widgets": {
   "state": {},
   "version": "1.1.2"
  }
 },
 "nbformat": 4,
 "nbformat_minor": 2
}
