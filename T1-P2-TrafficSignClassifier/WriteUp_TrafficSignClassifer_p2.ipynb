{
 "cells": [
  {
   "cell_type": "markdown",
   "metadata": {},
   "source": [
    "# WriteUp_TrafficSignClassifer_p2"
   ]
  },
  {
   "cell_type": "code",
   "execution_count": 1,
   "metadata": {
    "collapsed": true
   },
   "outputs": [],
   "source": [
    "from lib_traffic_sign_classifier import *\n",
    "%matplotlib inline"
   ]
  },
  {
   "cell_type": "markdown",
   "metadata": {},
   "source": [
    "## 6. Solution Approach :\n"
   ]
  },
  {
   "cell_type": "raw",
   "metadata": {
    "collapsed": true
   },
   "source": [
    "LeNet is famous convolutional network which capable for recognizing numbers.\n",
    "Since In machine learning, a convolutional neural network (CNN, or ConvNet) is a class of deep, \n",
    "feed-forward artificial neural networks that has successfully been applied to analyzing visual imagery.\n",
    "The plan is to use it, modify it until the goal (94%) is met.\n",
    "\n",
    "For LetNet, we have in the network.  Total of 13 layers if Input and out  are counted.\n",
    "INPUT => CONV => RELU => POOL => CONV => RELU => POOL => FLAT => FC => RELU => FC => RELU => logits\n",
    "Batch size of 128 is chosen and rate of learning is 0.001.  Increase rate of learning, \n",
    "Here is network connections map or the size of each layer.\n",
    "\n",
    "Model : LeNet\n",
    "01. input : (32, 32, 3)\n",
    "02. conv1 : (28, 28, 6)\n",
    "03. relu1 : (28, 28, 6)\n",
    "04. pool1 : (14, 14, 6)\n",
    "05. conv2 : (10, 10, 16)\n",
    "06. relu2 : (10, 10, 16)\n",
    "07. pool2 : (5, 5, 16)\n",
    "08. flat  : (400)\n",
    "09. FC1   : (120)\n",
    "10. relu3 : (120)\n",
    "11. FC2   : (84)\n",
    "12. relu4 : (84)\n",
    "13. logits: (43)\n",
    "    \n",
    "LeNet accuracy rate is about 94% but when it comes to testing time, its successful rate is only 63%.\n",
    "it performs very poorly. A modification is needed.  What do we need to change ?\n",
    "We notice that the data set is more complicated than recognizing letter.  \n",
    "We Decide to add a convolution layer and Relu to the network to introduce complexity and nonlinearrity.\n",
    "\n",
    "We notice that when LeNet is training, its accuracy rate fluctuate.  \n",
    "Is it A sign of overfitting?  Since Overfitting is commonplace.\n",
    "May be adding a drop layer would help? A Simple Way to Prevent Neural Networks from\n",
    "Overfitting.\n",
    "\n",
    "\n",
    "The input is 32x32x3\n",
    "The output is 43x1\n",
    "The internal network is configured with the assistant of lecture simplified formula : \n",
    "    next input layer = (w - k)/s + 1 (w=weight, k=filter size, s=stride)\n",
    "This formula is very helpful but not without  a lot of luck, we have a slightly better model just barely meet expectation.\n",
    "That is Lenet2.  Better one can be found if more time permit.\n",
    "    \n",
    "We also experience with Letne2 model (modification of LeNet) with a slightly better result.\n",
    "Model : Lenet2\n",
    "INPUT => CONV => RELU => POOL => CONV => RELU => POOL => CONV => RELU => FLAT => FC => RELU => DROP =>FC => RELU => logits\n",
    "1. convolution and ReLU with strides[1,1,1,1] padding=VALID      # 32x32x3  => 28x28x25\n",
    "2. maxpool with strides[1,2,2,1] ksize=[1, 2, 2, 1]padding=VALID # 28x28x25 => 14x14x25\n",
    "3. convolution and ReLU with strides[1,1,1,1] padding=VALID      # 14x14x25 => 10x10x40\n",
    "4. maxpool with strides[1,2,2,1] ksize=[1, 2, 2, 1]padding=VALID # 10x10x40 => 5x5x40\n",
    "5. convolution and ReLU with strides[1,1,1,1] padding=VALID      # 5x5x40   => 3x3x60\n",
    "6. flatP2 = flatten(C3)                                          # 3x3x60   => 540\n",
    "7. fully_connected                                               # 540      => 120\n",
    "8. drop layer at 50%                                             # 120\n",
    "9. fullyconnected (logits)                                       # 120 => 43\n",
    "\n",
    "Using Lenet2 we have  Validation Accuracy = 0.942 and testing with 5 external German Traffic sign we receive 80% accuracy.\n"
   ]
  },
  {
   "cell_type": "code",
   "execution_count": null,
   "metadata": {
    "collapsed": true
   },
   "outputs": [],
   "source": []
  },
  {
   "cell_type": "markdown",
   "metadata": {},
   "source": [
    "## 7. Acquiring New Images\n",
    "Using https://en.wikipedia.org/wiki/Road_signs_in_Germany to get some random sign to test"
   ]
  },
  {
   "cell_type": "code",
   "execution_count": 2,
   "metadata": {},
   "outputs": [
    {
     "data": {
      "image/png": "[encoded data removed]",
      "text/plain": [
       "<matplotlib.figure.Figure at 0x7f0675017ef0>"
      ]
     },
     "metadata": {},
     "output_type": "display_data"
    }
   ],
   "source": [
    "ext_result = load_external_traffic_sign()"
   ]
  },
  {
   "cell_type": "code",
   "execution_count": 3,
   "metadata": {
    "collapsed": true
   },
   "outputs": [],
   "source": [
    "X_ext_result = np.array([col[1] for col in ext_result])\n",
    "y_ext_result = [col[0] for col in ext_result]"
   ]
  },
  {
   "cell_type": "code",
   "execution_count": 4,
   "metadata": {
    "collapsed": true
   },
   "outputs": [],
   "source": [
    "import tensorflow as tf\n",
    "trained_model_file = \"./LenetTrafficSign_Lenet2_8\" #saver.restore(sess,tf.train.latest_checkpoint('./'))"
   ]
  },
  {
   "cell_type": "code",
   "execution_count": 5,
   "metadata": {
    "collapsed": true
   },
   "outputs": [],
   "source": [
    "#sess = tf.Session()\n",
    "x = tf.placeholder(tf.float32, (None, 32, 32, 3))\n",
    "y = tf.placeholder(tf.int32, (None))\n",
    "logits = Lenet2(x)"
   ]
  },
  {
   "cell_type": "code",
   "execution_count": 6,
   "metadata": {
    "collapsed": true
   },
   "outputs": [],
   "source": [
    "n_classes          = 43\n",
    "rate               = 0.001; EPOCHS             = 100; BATCH_SIZE         = 128;\n",
    "one_hot_y          = tf.one_hot(y, n_classes)\n",
    "\n",
    "cross_entropy      = tf.nn.softmax_cross_entropy_with_logits(labels=one_hot_y, logits=logits)\n",
    "loss_operation     = tf.reduce_mean(cross_entropy)\n",
    "\n",
    "optimizer          = tf.train.AdamOptimizer(learning_rate = rate)\n",
    "training_operation = optimizer.minimize(loss_operation)\n",
    "correct_prediction = tf.equal(tf.argmax(logits, 1), tf.argmax(one_hot_y, 1))\n",
    "accuracy_operation = tf.reduce_mean(tf.cast(correct_prediction, tf.float32))"
   ]
  },
  {
   "cell_type": "code",
   "execution_count": 7,
   "metadata": {},
   "outputs": [
    {
     "name": "stdout",
     "output_type": "stream",
     "text": [
      "expected/predicted class: 18/18\n",
      "expected/predicted class: 23/23\n",
      "expected/predicted class: 38/28\n",
      "expected/predicted class: 25/25\n",
      "expected/predicted class: 26/26\n",
      "correct: 4\n"
     ]
    }
   ],
   "source": [
    "init = tf.global_variables_initializer()\n",
    "saver = tf.train.Saver()\n",
    "with tf.Session() as sess:\n",
    "    saver.restore(sess, trained_model_file)\n",
    "    predictions = sess.run(logits, feed_dict={x: X_ext_result})\n",
    "    \n",
    "errors = 0\n",
    "for prediction,i in zip(predictions, range(len(predictions))):\n",
    "    print(\"expected/predicted class: {}/{}\".format(y_ext_result[i], np.argmax(prediction)))\n",
    "    if np.argmax(prediction) != y_ext_result[i]:\n",
    "        errors += 1\n",
    "print(\"correct:\", len(predictions) - errors)"
   ]
  },
  {
   "cell_type": "markdown",
   "metadata": {},
   "source": [
    "## 8. Performance on New Images"
   ]
  },
  {
   "cell_type": "markdown",
   "metadata": {},
   "source": [
    "### Analyze Performance : \n",
    "When Calculate the accuracy for these 5 new images, we got 80% accuracy"
   ]
  },
  {
   "cell_type": "code",
   "execution_count": 8,
   "metadata": {},
   "outputs": [
    {
     "name": "stdout",
     "output_type": "stream",
     "text": [
      "prediction accuracy :  80.0  %\n"
     ]
    }
   ],
   "source": [
    "print(\"prediction accuracy : \", 100* (len(predictions) - errors)/len(predictions), \" %\")"
   ]
  },
  {
   "cell_type": "markdown",
   "metadata": {},
   "source": [
    "## Performance on our data set"
   ]
  },
  {
   "cell_type": "code",
   "execution_count": 10,
   "metadata": {
    "collapsed": true
   },
   "outputs": [],
   "source": [
    "X_train, y_train, X_valid, y_valid, X_test, y_test = load_training_data()"
   ]
  },
  {
   "cell_type": "code",
   "execution_count": 11,
   "metadata": {},
   "outputs": [
    {
     "name": "stdout",
     "output_type": "stream",
     "text": [
      "Test Accuracy = 0.942\n"
     ]
    }
   ],
   "source": [
    "init = tf.global_variables_initializer()\n",
    "saver = tf.train.Saver()\n",
    "with tf.Session() as sess:    \n",
    "    sess.run(tf.global_variables_initializer())\n",
    "    saver.restore(sess, trained_model_file)\n",
    "    test_accuracy = calculate_accuracy(X_valid, y_valid, x, y, accuracy_operation, BATCH_SIZE)\n",
    "    print(\"Test Accuracy = {:.3f}\".format(test_accuracy))"
   ]
  },
  {
   "cell_type": "markdown",
   "metadata": {},
   "source": [
    "## 9. Model Certainty - Softmax Probabilities"
   ]
  },
  {
   "cell_type": "markdown",
   "metadata": {},
   "source": [
    "#### Output Top 5 Softmax Probabilities For Each Image Found on the Web"
   ]
  },
  {
   "cell_type": "code",
   "execution_count": 9,
   "metadata": {},
   "outputs": [
    {
     "name": "stdout",
     "output_type": "stream",
     "text": [
      "[[  1.00000000e+00   0.00000000e+00   0.00000000e+00   0.00000000e+00\n",
      "    0.00000000e+00]\n",
      " [  1.00000000e+00   0.00000000e+00   0.00000000e+00   0.00000000e+00\n",
      "    0.00000000e+00]\n",
      " [  9.15459394e-01   8.38193297e-02   7.21261720e-04   2.33760155e-14\n",
      "    4.86662077e-18]\n",
      " [  1.00000000e+00   0.00000000e+00   0.00000000e+00   0.00000000e+00\n",
      "    0.00000000e+00]\n",
      " [  1.00000000e+00   0.00000000e+00   0.00000000e+00   0.00000000e+00\n",
      "    0.00000000e+00]]\n",
      "[[18  0  1  2  3]\n",
      " [23  0  1  2  3]\n",
      " [28 21 24  1 11]\n",
      " [25  0  1  2  3]\n",
      " [26  0  1  2  3]]\n"
     ]
    }
   ],
   "source": [
    "with tf.Session() as sess:\n",
    "    #saver.restore(sess, tf.train.latest_checkpoint('.'))\n",
    "    saver.restore(sess, trained_model_file)\n",
    "    probabilities = tf.nn.softmax(logits)\n",
    "    predictions = sess.run(probabilities, feed_dict={x: X_ext_result})\n",
    "    topk5 = sess.run(tf.nn.top_k(tf.constant(predictions), k=5)) \n",
    "\n",
    "print(topk5[0])\n",
    "print(topk5[1])"
   ]
  },
  {
   "cell_type": "raw",
   "metadata": {
    "collapsed": true
   },
   "source": [
    "Look at the above result: \n",
    "    For the correct prediction: [18  0  1  2  3] the probability is  [1.00.00   0.00   0.00 0.00] which clearly certain \n",
    "        in its prediction.\n",
    "    For the incorrect         : [28 21 24  1 11] the probability is   [0.91  0.08.38   7.21261720e-04   2.33760155e-14]\n",
    "        showed that it is not so sure. even at 90%"
   ]
  },
  {
   "cell_type": "markdown",
   "metadata": {},
   "source": [
    "## DISCUSSION :"
   ]
  },
  {
   "cell_type": "raw",
   "metadata": {},
   "source": [
    "Just like cooking, this is a lengthy process of no end insight to perfect it even when we could reach at the prediction range of 94%.\n",
    "The process start out with the goal to predict German Traffic sign?  and not American one ? \n",
    "However,  data set was given.  Preprocessing is needed.  The Prediction Model need to be build and tested.  Even through, LeNet is there to start.  Modification need make one step at a time to build addition layer and hyperparameter need to change to see if performance can be improve.  The process is endless.  And opportunity for automation is obvious to create model, test and compare performance.\n"
   ]
  }
 ],
 "metadata": {
  "kernelspec": {
   "display_name": "Python 3",
   "language": "python",
   "name": "python3"
  },
  "language_info": {
   "codemirror_mode": {
    "name": "ipython",
    "version": 3
   },
   "file_extension": ".py",
   "mimetype": "text/x-python",
   "name": "python",
   "nbconvert_exporter": "python",
   "pygments_lexer": "ipython3",
   "version": "3.5.2"
  },
  "widgets": {
   "state": {},
   "version": "1.1.2"
  }
 },
 "nbformat": 4,
 "nbformat_minor": 2
}
